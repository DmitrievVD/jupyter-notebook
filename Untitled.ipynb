{
 "cells": [
  {
   "cell_type": "markdown",
   "id": "e4986cc1",
   "metadata": {},
   "source": [
    "# f(x) = 0.6x^3+5.5x^2+10x -5\n",
    "\n",
    "1. Определить корни\n",
    "\n",
    "2. Найти интервалы, на которых функция возрастает\n",
    "\n",
    "3. Найти интервалы, на которых функция убывает\n",
    "\n",
    "4. Построить график\n",
    "\n",
    "5. Вычислить вершину\n",
    "\n",
    "6. Определить промежутки, на котором f > 0\n",
    "\n",
    "7. Определить промежутки, на котором f < 0"
   ]
  },
  {
   "cell_type": "code",
   "execution_count": 1,
   "id": "6eea48c6",
   "metadata": {},
   "outputs": [],
   "source": [
    "from sympy import *\n"
   ]
  },
  {
   "cell_type": "code",
   "execution_count": 2,
   "id": "ddfc7983",
   "metadata": {},
   "outputs": [
    {
     "name": "stdout",
     "output_type": "stream",
     "text": [
      "Производная форма функции 0.6*x**3 + 5.5*x**2 + 10*x - 5: \n"
     ]
    },
    {
     "data": {
      "text/latex": [
       "$\\displaystyle 1.8 x^{2} + 11.0 x + 10$"
      ],
      "text/plain": [
       "1.8*x**2 + 11.0*x + 10"
      ]
     },
     "execution_count": 2,
     "metadata": {},
     "output_type": "execute_result"
    }
   ],
   "source": [
    "x = Symbol('x') \n",
    "f = 0.6*x**3+5.5*x**2+10*x -5 \n",
    "\n",
    "yprime = f.diff(x)\n",
    "f_proiz = yprime\n",
    "\n",
    "print(f\"Производная форма функции {f}: \")\n",
    "f_proiz\n"
   ]
  },
  {
   "cell_type": "code",
   "execution_count": 3,
   "id": "426e1d62",
   "metadata": {},
   "outputs": [
    {
     "name": "stdout",
     "output_type": "stream",
     "text": [
      "Точки x для вершин: -5.00000000000000, -1.111\n",
      "Точки y для вершин: 7.50000000000000, -10.1440048217773\n"
     ]
    }
   ],
   "source": [
    "tx1, tx2 = solve(f_proiz, x)\n",
    "tx1 = round(tx1, 3)\n",
    "tx2 = round(tx2, 3)\n",
    "print(f\"Точки x для вершин: {tx1}, {tx2}\")\n",
    "ty1 = 0.6*tx1**3+5.5*tx1**2+10*tx1 -5\n",
    "ty2 = 0.6*tx2**3+5.5*tx2**2+10*tx2 -5\n",
    "print(f\"Точки y для вершин: {ty1}, {ty2}\")"
   ]
  },
  {
   "cell_type": "code",
   "execution_count": 4,
   "id": "452bd441",
   "metadata": {},
   "outputs": [],
   "source": [
    "tx1 = round(tx1, 3)\n",
    "tx2 = round(tx2, 3)\n",
    "ty1 = round(ty1, 3)\n",
    "ty2 = round(ty2, 3)"
   ]
  },
  {
   "cell_type": "code",
   "execution_count": 5,
   "id": "a1060656",
   "metadata": {},
   "outputs": [
    {
     "name": "stdout",
     "output_type": "stream",
     "text": [
      "Вершина №1: [-5.00000000000000, 7.500]\n",
      "Вершина №1: [-1.111, -10.144]\n"
     ]
    }
   ],
   "source": [
    "print(f\"Вершина №1: [{tx1}, {ty1}]\")\n",
    "print(f\"Вершина №2: [{tx2}, {ty2}]\")"
   ]
  },
  {
   "cell_type": "code",
   "execution_count": 6,
   "id": "040cf190",
   "metadata": {},
   "outputs": [
    {
     "name": "stdout",
     "output_type": "stream",
     "text": [
      "Корень: x1 = -6.322\n",
      "Корень: x2 = -3.250\n",
      "Корень: x3 = 0.406\n"
     ]
    }
   ],
   "source": [
    "x1, x2, x3 = solve(f, x)\n",
    "x1 = round(x1, 3)\n",
    "x2 = round(x2, 3)\n",
    "x3 = round(x3, 3)\n",
    "print(f'Корень: x1 = {x1}')\n",
    "print(f'Корень: x2 = {x2}')\n",
    "print(f'Корень: x3 = {x3}')"
   ]
  },
  {
   "cell_type": "code",
   "execution_count": 7,
   "id": "dc4f0394",
   "metadata": {
    "scrolled": true
   },
   "outputs": [
    {
     "data": {
      "image/png": "[encoded data removed]",
      "text/plain": [
       "<Figure size 640x480 with 1 Axes>"
      ]
     },
     "metadata": {},
     "output_type": "display_data"
    }
   ],
   "source": [
    "import sympy as sp\n",
    "from sympy.plotting.plot import MatplotlibBackend, Plot\n",
    "\n",
    "\n",
    "def get_sympy_subplots(plot:Plot):\n",
    "    backend = MatplotlibBackend(plot)\n",
    "\n",
    "    backend.process_series()\n",
    "    backend.fig.tight_layout()\n",
    "    return backend.plt\n",
    "\n",
    "\n",
    "\n",
    "x = sp.symbols('x')\n",
    "p = sp.plot( 0.6*x**3+5.5*x**2+10*x -5 , show=False)\n",
    "\n",
    "\n",
    "plt = get_sympy_subplots(p)\n",
    "plt.plot([-6.3217,-3.2504,0.4055], [0,0,0], \"og\")\n",
    "plt.plot([tx1, tx2], [ty1, ty2], \"or\")\n",
    "\n",
    "plt.show()"
   ]
  },
  {
   "cell_type": "code",
   "execution_count": 8,
   "id": "21dd4693",
   "metadata": {},
   "outputs": [
    {
     "name": "stdout",
     "output_type": "stream",
     "text": [
      "f(X)>0 на [-6.322, -3.250], [0.406, до бесконечности]\n",
      "f(x)<0 на [от -бесконечности, -6.322], [-3.250, 0.406]\n"
     ]
    }
   ],
   "source": [
    "print(f'f(X)>0 на [{x1}, {x2}], [{x3}, до бесконечности]')\n",
    "print(f'f(x)<0 на [от -бесконечности, {x1}], [{x2}, {x3}]')"
   ]
  },
  {
   "cell_type": "code",
   "execution_count": 9,
   "id": "40eaadd8",
   "metadata": {},
   "outputs": [
    {
     "name": "stdout",
     "output_type": "stream",
     "text": [
      "Функция возростает на [-бесконечности, -5.00000000000000], [-1.111, до бесконечности]\n",
      "Функция убывает на [-5.00000000000000, -1.111]\n"
     ]
    }
   ],
   "source": [
    "print(f'Функция возростает на [-бесконечности, {tx1}], [{tx2}, до бесконечности]')\n",
    "print(f'Функция убывает на [{tx1}, {tx2}]')"
   ]
  },
  {
   "cell_type": "code",
   "execution_count": 16,
   "id": "344afee5",
   "metadata": {},
   "outputs": [
    {
     "name": "stdout",
     "output_type": "stream",
     "text": [
      "branch 'main' set up to track 'origin/main'.\n"
     ]
    },
    {
     "name": "stderr",
     "output_type": "stream",
     "text": [
      "To https://github.com/DmitrievVD/jupyter-notebook.git\n",
      "   80319df..da40de3  main -> main\n"
     ]
    }
   ],
   "source": [
    "!git push -u origin main"
   ]
  },
  {
   "cell_type": "code",
   "execution_count": null,
   "id": "c0c7445d",
   "metadata": {},
   "outputs": [],
   "source": []
  }
 ],
 "metadata": {
  "kernelspec": {
   "display_name": "Python 3 (ipykernel)",
   "language": "python",
   "name": "python3"
  },
  "language_info": {
   "codemirror_mode": {
    "name": "ipython",
    "version": 3
   },
   "file_extension": ".py",
   "mimetype": "text/x-python",
   "name": "python",
   "nbconvert_exporter": "python",
   "pygments_lexer": "ipython3",
   "version": "3.9.13"
  }
 },
 "nbformat": 4,
 "nbformat_minor": 5
}
